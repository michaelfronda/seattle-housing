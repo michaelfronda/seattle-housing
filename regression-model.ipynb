{
 "cells": [
  {
   "cell_type": "code",
   "execution_count": 59,
   "metadata": {},
   "outputs": [],
   "source": [
    "# bring in libraries \n",
    "import pandas as pd\n",
    "import numpy as np \n",
    "import matplotlib.pyplot as plt\n",
    "import seaborn as sns \n",
    "import sklearn\n",
    "import joblib\n",
    "import time\n",
    "\n",
    "from sklearn.decomposition import PCA\n",
    "from sklearn.linear_model import LinearRegression\n",
    "from sklearn.model_selection import train_test_split\n",
    "from sklearn.metrics import mean_squared_error, r2_score\n",
    "from sklearn.pipeline import Pipeline\n",
    "from sklearn.preprocessing import StandardScaler, PolynomialFeatures\n",
    "from sklearn.linear_model import Ridge\n",
    "\n",
    "%matplotlib inline \n",
    "\n",
    "import warnings \n",
    "warnings.filterwarnings(\"ignore\")"
   ]
  },
  {
   "cell_type": "code",
   "execution_count": 2,
   "metadata": {},
   "outputs": [],
   "source": [
    "filename = \"https://library.startlearninglabs.uw.edu/DATASCI410/Datasets/kc_house_data.csv\"\n",
    "\n",
    "df = pd.read_csv(filename)"
   ]
  },
  {
   "cell_type": "code",
   "execution_count": 3,
   "metadata": {},
   "outputs": [],
   "source": [
    "# No nulls"
   ]
  },
  {
   "cell_type": "code",
   "execution_count": 6,
   "metadata": {},
   "outputs": [],
   "source": [
    "# outlier removal\n",
    "numeric = ['price',\n",
    " 'sqft_living',\n",
    " 'sqft_lot',\n",
    " 'sqft_above',\n",
    " 'sqft_basement',\n",
    " 'sqft_living15',\n",
    " 'sqft_lot15']\n",
    "\n",
    "def remove_outliers(df, col): \n",
    "    high = np.mean(df[col]) + 3 * np.std(df[col])\n",
    "    low = np.mean(df[col]) - 3 * np.std(df[col])\n",
    "    flag = (df.loc[:,col] < high) & (df.loc[:,col] > low)\n",
    "    df.loc[~flag, col] = np.float('NaN') \n",
    "    return df \n",
    "\n",
    "# cleanse the outliers in the above numeric columns\n",
    "for col in numeric:\n",
    "    df = remove_outliers(df, col)\n",
    "\n",
    "dfa = df.dropna()"
   ]
  },
  {
   "cell_type": "code",
   "execution_count": 7,
   "metadata": {},
   "outputs": [],
   "source": [
    "# Re-Binning\n",
    "for i in range(1,5):\n",
    "    dfa.loc[dfa.loc[:,'grade'] == i, 'grade'] = 0\n",
    "\n",
    "for i in range(5,9):\n",
    "    dfa.loc[dfa.loc[:,'grade'] == i, 'grade'] = 1\n",
    "\n",
    "for i in range(9,14):\n",
    "    dfa.loc[dfa.loc[:,'grade'] == i, 'grade'] = 2"
   ]
  },
  {
   "cell_type": "code",
   "execution_count": 8,
   "metadata": {},
   "outputs": [],
   "source": [
    "##### Feature extraction #####\n",
    "# fix data\n",
    "def fix_date(date):\n",
    "    import re\n",
    "    clean_date = re.sub('T000000', '', date)\n",
    "    y = clean_date[:4]\n",
    "    m = clean_date[4:6]\n",
    "    d = clean_date[6:]\n",
    "    return y + '-' + m + '-' + d\n",
    "\n",
    "dfa['date'] = dfa['date'].apply(lambda x: fix_date(x))\n",
    "\n",
    "# feature extraction: date \n",
    "dfa['year'] = dfa['date'].astype(str).str[:4]\n",
    "dfa['month'] = dfa['date'].astype(str).str[5:7]\n",
    "dfa['day'] = dfa['date'].astype(str).str[8:10]"
   ]
  },
  {
   "cell_type": "code",
   "execution_count": 11,
   "metadata": {},
   "outputs": [],
   "source": [
    "# combine lat and long \n",
    "pca = PCA(n_components=1)\n",
    "pc1 = pca.fit_transform(dfa[['long', 'lat']])\n",
    "\n",
    "dfa['location'] = pc1"
   ]
  },
  {
   "cell_type": "code",
   "execution_count": 111,
   "metadata": {},
   "outputs": [],
   "source": [
    "X = dfa[[\n",
    "    'bedrooms',\n",
    "    'bathrooms',\n",
    "    'waterfront',\n",
    "    'view',\n",
    "    'grade',\n",
    "    'lat',\n",
    "    'sqft_living'\n",
    "]]\n",
    "\n",
    "X2 = dfa[['sqft_above', \n",
    "    'sqft_living15', \n",
    "    'sqft_living', \n",
    "    'sqft_basement', \n",
    "    'bedrooms', \n",
    "    'bathrooms', \n",
    "    'waterfront', \n",
    "    'floors', \n",
    "    'lat', \n",
    "    'view', \n",
    "    'grade']]\n",
    "\n",
    "y = dfa['price'].to_numpy()"
   ]
  },
  {
   "cell_type": "code",
   "execution_count": 112,
   "metadata": {},
   "outputs": [],
   "source": [
    "X_train, X_test, y_train, y_test = train_test_split(X, # features\n",
    "                                                    y, # response \n",
    "                                                    test_size = 0.8, # 80/20 Split; Training 80%, Testing 20% \n",
    "                                                    random_state = 42) # seeding"
   ]
  },
  {
   "cell_type": "code",
   "execution_count": 113,
   "metadata": {},
   "outputs": [
    {
     "data": {
      "text/plain": [
       "LinearRegression()"
      ]
     },
     "execution_count": 113,
     "metadata": {},
     "output_type": "execute_result"
    }
   ],
   "source": [
    "linreg = LinearRegression()\n",
    "\n",
    "linreg.fit(X_train, y_train)"
   ]
  },
  {
   "cell_type": "code",
   "execution_count": 114,
   "metadata": {},
   "outputs": [
    {
     "data": {
      "text/plain": [
       "0.6025747157300844"
      ]
     },
     "execution_count": 114,
     "metadata": {},
     "output_type": "execute_result"
    }
   ],
   "source": [
    "preds = linreg.predict(X_test)\n",
    "r2_score(y_test, preds)"
   ]
  },
  {
   "cell_type": "code",
   "execution_count": 115,
   "metadata": {},
   "outputs": [
    {
     "data": {
      "text/plain": [
       "Pipeline(steps=[('Scaler', StandardScaler()),\n",
       "                ('Polynomial Features', PolynomialFeatures(include_bias=False)),\n",
       "                ('Linear Regression', LinearRegression())])"
      ]
     },
     "execution_count": 115,
     "metadata": {},
     "output_type": "execute_result"
    }
   ],
   "source": [
    "model_v1 = Pipeline([\n",
    "    ('Scaler', StandardScaler()),\n",
    "    ('Polynomial Features', PolynomialFeatures(include_bias=False)),\n",
    "    ('Linear Regression', LinearRegression())\n",
    "])\n",
    "\n",
    "model_v1.fit(X_train, y_train)"
   ]
  },
  {
   "cell_type": "code",
   "execution_count": 116,
   "metadata": {},
   "outputs": [
    {
     "data": {
      "text/plain": [
       "0.6250382610418221"
      ]
     },
     "execution_count": 116,
     "metadata": {},
     "output_type": "execute_result"
    }
   ],
   "source": [
    "preds_v1 = model_v1.predict(X_test)\n",
    "r2_score(y_test, preds_v1)"
   ]
  },
  {
   "cell_type": "code",
   "execution_count": 117,
   "metadata": {},
   "outputs": [
    {
     "data": {
      "text/plain": [
       "Pipeline(steps=[('Scaler', StandardScaler()),\n",
       "                ('Polynomial Features', PolynomialFeatures(include_bias=False)),\n",
       "                ('Ridge', Ridge(alpha=50))])"
      ]
     },
     "execution_count": 117,
     "metadata": {},
     "output_type": "execute_result"
    }
   ],
   "source": [
    "model_v2 = Pipeline([\n",
    "    ('Scaler', StandardScaler()),\n",
    "    ('Polynomial Features', PolynomialFeatures(include_bias=False)),\n",
    "    ('Ridge', Ridge(alpha=50))\n",
    "])\n",
    "\n",
    "model_v2.fit(X_train, y_train)"
   ]
  },
  {
   "cell_type": "code",
   "execution_count": 118,
   "metadata": {},
   "outputs": [
    {
     "data": {
      "text/plain": [
       "0.6252064165343844"
      ]
     },
     "execution_count": 118,
     "metadata": {},
     "output_type": "execute_result"
    }
   ],
   "source": [
    "preds_v2 = model_v2.predict(X_test)\n",
    "r2_score(y_test, preds_v2)"
   ]
  },
  {
   "cell_type": "code",
   "execution_count": 119,
   "metadata": {
    "scrolled": true
   },
   "outputs": [
    {
     "name": "stdout",
     "output_type": "stream",
     "text": [
      "model_v2.joblib saved\n"
     ]
    }
   ],
   "source": [
    "joblib.dump(model_v2, 'model_v2.joblib', compress=False)\n",
    "print('model_v2.joblib saved')"
   ]
  }
 ],
 "metadata": {
  "kernelspec": {
   "display_name": "Python 3",
   "language": "python",
   "name": "python3"
  },
  "language_info": {
   "codemirror_mode": {
    "name": "ipython",
    "version": 3
   },
   "file_extension": ".py",
   "mimetype": "text/x-python",
   "name": "python",
   "nbconvert_exporter": "python",
   "pygments_lexer": "ipython3",
   "version": "3.8.5"
  }
 },
 "nbformat": 4,
 "nbformat_minor": 4
}
